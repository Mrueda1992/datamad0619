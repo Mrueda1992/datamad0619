{
 "cells": [
  {
   "cell_type": "code",
   "execution_count": 1,
   "metadata": {},
   "outputs": [],
   "source": [
    "import requests\n",
    "import os \n",
    "from dotenv import load_dotenv\n",
    "\n",
    "load_dotenv()\n",
    "\n",
    "GITHUB_TOKEN = os.environ[\"GITHUB_TOKEN\"]\n",
    "\n",
    "if not \"GITHUB_TOKEN\" in os.environ:\n",
    "    raise ValueError(\"You should pass a GITHUB TOKEN, see: https://github.com/settings/tokens\")\n",
    "\n",
    "BASE_URL = \"https://api.github.com\"\n",
    "\n",
    "owner = \"ironhack-datalabs\"\n",
    "repo = \"datamad0619\"\n",
    "headers = {\n",
    "  \"Authorization\": \"token {}\".format(GITHUB_TOKEN)\n",
    "}\n",
    "\n"
   ]
  },
  {
   "cell_type": "code",
   "execution_count": 5,
   "metadata": {},
   "outputs": [
    {
     "name": "stdout",
     "output_type": "stream",
     "text": [
      "30\n"
     ]
    }
   ],
   "source": [
    "res_commits = requests.get(\"{}/repos/{}/{}/commits\".format(BASE_URL,owner, repo), headers= headers)\n",
    "res_commit = res_commits.json()\n",
    "\n",
    "print (len(res_commit))\n",
    "\n"
   ]
  },
  {
   "cell_type": "code",
   "execution_count": null,
   "metadata": {},
   "outputs": [],
   "source": []
  }
 ],
 "metadata": {
  "kernelspec": {
   "display_name": "Python 3",
   "language": "python",
   "name": "python3"
  },
  "language_info": {
   "codemirror_mode": {
    "name": "ipython",
    "version": 3
   },
   "file_extension": ".py",
   "mimetype": "text/x-python",
   "name": "python",
   "nbconvert_exporter": "python",
   "pygments_lexer": "ipython3",
   "version": "3.7.3"
  }
 },
 "nbformat": 4,
 "nbformat_minor": 2
}
