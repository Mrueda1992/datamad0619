{
 "cells": [
  {
   "cell_type": "code",
   "execution_count": 51,
   "metadata": {},
   "outputs": [
    {
     "name": "stdout",
     "output_type": "stream",
     "text": [
      "['Jupyter Notebook']\n"
     ]
    }
   ],
   "source": [
    "import requests\n",
    "import os \n",
    "from dotenv import load_dotenv\n",
    "\n",
    "load_dotenv()\n",
    "\n",
    "GITHUB_TOKEN = os.environ[\"GITHUB_TOKEN\"]\n",
    "\n",
    "if not \"GITHUB_TOKEN\" in os.environ:\n",
    "    raise ValueError(\"You should pass a GITHUB TOKEN, see: https://github.com/settings/tokens\")\n",
    "\n",
    "BASE_URL = \"https://api.github.com\"\n",
    "\n",
    "owner = \"ironhack-datalabs\"\n",
    "repo = \"datamad0619\"\n",
    "headers = {\n",
    "  \"Authorization\": \"token {}\".format(GITHUB_TOKEN)\n",
    "}\n",
    "\n",
    "\n",
    "\n",
    "res_forks = requests.get(\"{}/repos/{}/{}/forks\".format(BASE_URL,owner, repo), headers= headers)\n",
    "res_forks = res_forks.json()\n",
    "\n",
    "language = []\n",
    "for i in range(len(res_forks)):\n",
    "    language.append(res_forks[i]['language'])\n",
    "print (list(set(language)))\n",
    "\n",
    "\n",
    "\n",
    "    \n",
    "    \n",
    "        "
   ]
  },
  {
   "cell_type": "code",
   "execution_count": null,
   "metadata": {},
   "outputs": [],
   "source": [
    "res_forks = requests.get(\"{}/repos/{}/{}/\".format(BASE_URL,owner, repo), headers= headers)\n",
    "res_forks = res_forks.json()"
   ]
  }
 ],
 "metadata": {
  "kernelspec": {
   "display_name": "Python 3",
   "language": "python",
   "name": "python3"
  },
  "language_info": {
   "codemirror_mode": {
    "name": "ipython",
    "version": 3
   },
   "file_extension": ".py",
   "mimetype": "text/x-python",
   "name": "python",
   "nbconvert_exporter": "python",
   "pygments_lexer": "ipython3",
   "version": "3.7.3"
  }
 },
 "nbformat": 4,
 "nbformat_minor": 2
}
